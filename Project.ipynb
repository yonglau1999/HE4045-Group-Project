{
 "cells": [
  {
   "cell_type": "code",
   "execution_count": 93,
   "metadata": {},
   "outputs": [],
   "source": [
    "import pandas as pd\n",
    "import numpy as np\n",
    "\n",
    "# Load the datasets\n",
    "file1_path = 'educ_data.csv'\n",
    "file2_path = 'gini_data.csv'\n",
    "file3_path = 'unemp_data.csv'\n",
    "\n",
    "educ_df = pd.read_csv(file1_path)\n",
    "gini_df = pd.read_csv(file2_path)\n",
    "unemp_df = pd.read_csv(file3_path)\n",
    "country_code_df = pd.read_html(\"https://www.iban.com/country-codes\")[0]"
   ]
  },
  {
   "cell_type": "code",
   "execution_count": 94,
   "metadata": {},
   "outputs": [],
   "source": [
    "# Clean unemp_df\n",
    "id_vars = ['Country Name', 'Country Code', 'Indicator Name', 'Indicator Code']  \n",
    "year_columns = unemp_df.columns[4:]  # All the year columns, starting from the 5th column onward\n",
    "\n",
    "# Melt the dataframe to bring year columns into rows\n",
    "unemp_df = pd.melt(unemp_df, id_vars=id_vars, value_vars=year_columns, var_name='Year', value_name='Unemp %')\n",
    "\n",
    "# Drop rows with no data\n",
    "unemp_df = unemp_df.dropna(subset=['Unemp %'])\n",
    "\n",
    "# Convert 'Year' to a numerical type if needed (strip out the text around it, like 'YR1960' to just '1960')\n",
    "unemp_df['Year'] = unemp_df['Year'].str.extract('(\\d+)').astype(int)\n",
    "\n",
    "# Clean educ_df\n",
    "id_vars = ['Country Name', 'Country Code', 'Series Name', 'Series Code']  \n",
    "year_columns = educ_df.columns[4:]  # All the year columns, starting from the 5th column onward\n",
    "\n",
    "# Melt the dataframe to bring year columns into rows\n",
    "educ_df = pd.melt(educ_df, id_vars=id_vars, value_vars=year_columns, var_name='Year', value_name='Average years of schooling')\n",
    "\n",
    "# Drop rows with no data\n",
    "educ_df = educ_df[educ_df['Average years of schooling'] != '..']\n",
    "\n",
    "# Convert 'Year' to a numerical type if needed (strip out the text around it, like 'YR1960' to just '1960')\n",
    "educ_df['Year'] = educ_df['Year'].str.extract('(\\d+)').astype(int)\n",
    "\n",
    "# Clean gini_df\n",
    "\n",
    "gini_df[\"iso\"] = gini_df[\"iso\"].transform(lambda x: x.upper())\n"
   ]
  },
  {
   "cell_type": "code",
   "execution_count": 95,
   "metadata": {},
   "outputs": [],
   "source": [
    "merged_df = pd.merge(gini_df,unemp_df,left_on=[\"iso\",\"year\"],right_on=[\"Country Code\",\"Year\"])\n",
    "merged_df = pd.merge(merged_df,educ_df,left_on=[\"iso\",\"year\"],right_on=[\"Country Code\",\"Year\"])"
   ]
  },
  {
   "cell_type": "code",
   "execution_count": null,
   "metadata": {},
   "outputs": [],
   "source": []
  }
 ],
 "metadata": {
  "kernelspec": {
   "display_name": "Python 3",
   "language": "python",
   "name": "python3"
  },
  "language_info": {
   "codemirror_mode": {
    "name": "ipython",
    "version": 3
   },
   "file_extension": ".py",
   "mimetype": "text/x-python",
   "name": "python",
   "nbconvert_exporter": "python",
   "pygments_lexer": "ipython3",
   "version": "3.11.3"
  }
 },
 "nbformat": 4,
 "nbformat_minor": 2
}
